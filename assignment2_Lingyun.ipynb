{
 "cells": [
  {
   "cell_type": "raw",
   "metadata": {},
   "source": [
    "---\n",
    "title: STATS 3DA3\n",
    "subtitle: Homework Assignment 2\n",
    "author: \"Lingyun Huang (400237999)\"\n",
    "date: 02/10/2024\n",
    "format: pdf\n",
    "header-includes:\n",
    "   - \\usepackage{amsmath}\n",
    "   - \\usepackage{bbm}\n",
    "   - \\usepackage{array}\n",
    "   - \\usepackage{multirow}\n",
    "   - \\usepackage{graphicx}\n",
    "   - \\usepackage{float}\n",
    "   - \\usepackage{apacite}\n",
    "execute: \n",
    "  echo: true\n",
    "fontsize: 11pt\n",
    "geometry: margin = 1in\n",
    "linestretch: 1.5\n",
    "bibliography: references.bib\n",
    "---"
   ]
  },
  {
   "cell_type": "markdown",
   "metadata": {},
   "source": [
    "\\newpage"
   ]
  },
  {
   "cell_type": "markdown",
   "metadata": {},
   "source": [
    "## Question 1\n",
    "\n",
    "\n",
    "(1) Reference where you obtained the original PDF document."
   ]
  },
  {
   "cell_type": "markdown",
   "metadata": {},
   "source": [
    "Origianl PDF document obtained from the paper `Data Science at the Singularity` by David Donoho (2024) at [paper](https://assets.pubpub.org/9bk0194n/Donoho%20(2024)_Just%20Accepted-11706563057147.pdf).\n",
    "@donoho2023data\n"
   ]
  },
  {
   "cell_type": "markdown",
   "metadata": {},
   "source": [
    "(2) Read all PDF document pages and separate each line by `\\n`."
   ]
  },
  {
   "cell_type": "code",
   "execution_count": 383,
   "metadata": {},
   "outputs": [],
   "source": [
    "import numpy as numpy\n",
    "import pandas as pd\n",
    "import re\n",
    "import nltk\n",
    "from nltk.tokenize import word_tokenize\n",
    "from nltk.corpus import stopwords\n",
    "import pytz\n",
    "import pdfplumber"
   ]
  },
  {
   "cell_type": "code",
   "execution_count": 384,
   "metadata": {},
   "outputs": [
    {
     "name": "stderr",
     "output_type": "stream",
     "text": [
      "[nltk_data] Downloading package punkt to\n",
      "[nltk_data]     /Users/lingyunhuang/nltk_data...\n",
      "[nltk_data]   Package punkt is already up-to-date!\n",
      "[nltk_data] Downloading package stopwords to\n",
      "[nltk_data]     /Users/lingyunhuang/nltk_data...\n",
      "[nltk_data]   Package stopwords is already up-to-date!\n"
     ]
    },
    {
     "data": {
      "text/plain": [
       "True"
      ]
     },
     "execution_count": 384,
     "metadata": {},
     "output_type": "execute_result"
    }
   ],
   "source": [
    "# this NLTK data download is called only one time\n",
    "nltk.download('punkt')# word_tokenize uses punkt tokenizer model\n",
    "nltk.download('stopwords')"
   ]
  },
  {
   "cell_type": "code",
   "execution_count": 385,
   "metadata": {},
   "outputs": [],
   "source": [
    "def extract_text_from_pdf(pdf_path):\n",
    "    text = ''\n",
    "    with pdfplumber.open(pdf_path) as pdf:\n",
    "        for page in pdf.pages:\n",
    "            text += page.extract_text() + '\\n'\n",
    "    return text\n",
    "\n",
    "pdf_text = extract_text_from_pdf(\"Donoho (2024)_Just Accepted-11706563057147.pdf\")"
   ]
  },
  {
   "cell_type": "markdown",
   "metadata": {},
   "source": [
    "(3) Split the lines by `\\n`."
   ]
  },
  {
   "cell_type": "code",
   "execution_count": 386,
   "metadata": {},
   "outputs": [],
   "source": [
    "pdf_text = pdf_text.split('\\n')"
   ]
  },
  {
   "cell_type": "markdown",
   "metadata": {},
   "source": [
    "(4) Remove the lines before `Abstract. .....`. You can print the first few lines and find the number of lines to remove."
   ]
  },
  {
   "cell_type": "code",
   "execution_count": 387,
   "metadata": {},
   "outputs": [
    {
     "name": "stdout",
     "output_type": "stream",
     "text": [
      "Just Accepted\n",
      "DOI: 10.1162/99608f92.b91339ef\n",
      "ISSN: 2644-2353\n",
      "Data Science at the Singularity\n",
      "d\n",
      "David Donoho†,*\n",
      "† Stanford University\n",
      "e\n",
      "t\n",
      "Abstract. Something fundamental to computation-based repsearch has really changed\n"
     ]
    }
   ],
   "source": [
    "print('\\n'.join(pdf_text[0:10]))"
   ]
  },
  {
   "cell_type": "code",
   "execution_count": 388,
   "metadata": {},
   "outputs": [
    {
     "name": "stdout",
     "output_type": "stream",
     "text": [
      "Abstract. Something fundamental to computation-based repsearch has really changed\n",
      "in the last ten years. In certain fields, progress is simply dramatically more rapid than\n",
      "previously. Researchers in affected fields are living through a period of profound trans-\n"
     ]
    }
   ],
   "source": [
    "print('\\n'.join(pdf_text[9:12]))"
   ]
  },
  {
   "cell_type": "code",
   "execution_count": 389,
   "metadata": {},
   "outputs": [],
   "source": [
    "pdf_text = pdf_text[9:]"
   ]
  },
  {
   "cell_type": "code",
   "execution_count": 390,
   "metadata": {},
   "outputs": [
    {
     "name": "stdout",
     "output_type": "stream",
     "text": [
      "Abstract. Something fundamental to computation-based repsearch has really changed\n",
      "in the last ten years. In certain fields, progress is simply dramatically more rapid than\n",
      "previously. Researchers in affected fields are living through a period of profound trans-\n",
      "formation, as the fields undergo a transition to fricetionless reproducibility (FR). This\n",
      "transition markedly changes the rate of spread of ideas and practices, affects scientific\n"
     ]
    }
   ],
   "source": [
    "print('\\n'.join(pdf_text[:5]))"
   ]
  },
  {
   "cell_type": "markdown",
   "metadata": {},
   "source": [
    "(5) Create a data frame with lines."
   ]
  },
  {
   "cell_type": "code",
   "execution_count": 391,
   "metadata": {},
   "outputs": [
    {
     "data": {
      "text/html": [
       "<div>\n",
       "<style scoped>\n",
       "    .dataframe tbody tr th:only-of-type {\n",
       "        vertical-align: middle;\n",
       "    }\n",
       "\n",
       "    .dataframe tbody tr th {\n",
       "        vertical-align: top;\n",
       "    }\n",
       "\n",
       "    .dataframe thead th {\n",
       "        text-align: right;\n",
       "    }\n",
       "</style>\n",
       "<table border=\"1\" class=\"dataframe\">\n",
       "  <thead>\n",
       "    <tr style=\"text-align: right;\">\n",
       "      <th></th>\n",
       "      <th>line</th>\n",
       "    </tr>\n",
       "  </thead>\n",
       "  <tbody>\n",
       "    <tr>\n",
       "      <th>0</th>\n",
       "      <td>Abstract. Something fundamental to computation...</td>\n",
       "    </tr>\n",
       "    <tr>\n",
       "      <th>1</th>\n",
       "      <td>in the last ten years. In certain fields, prog...</td>\n",
       "    </tr>\n",
       "    <tr>\n",
       "      <th>2</th>\n",
       "      <td>previously. Researchers in affected fields are...</td>\n",
       "    </tr>\n",
       "    <tr>\n",
       "      <th>3</th>\n",
       "      <td>formation, as the fields undergo a transition ...</td>\n",
       "    </tr>\n",
       "    <tr>\n",
       "      <th>4</th>\n",
       "      <td>transition markedly changes the rate of spread...</td>\n",
       "    </tr>\n",
       "    <tr>\n",
       "      <th>...</th>\n",
       "      <td>...</td>\n",
       "    </tr>\n",
       "    <tr>\n",
       "      <th>1667</th>\n",
       "      <td>t</td>\n",
       "    </tr>\n",
       "    <tr>\n",
       "      <th>1668</th>\n",
       "      <td>s</td>\n",
       "    </tr>\n",
       "    <tr>\n",
       "      <th>1669</th>\n",
       "      <td>u</td>\n",
       "    </tr>\n",
       "    <tr>\n",
       "      <th>1670</th>\n",
       "      <td>J</td>\n",
       "    </tr>\n",
       "    <tr>\n",
       "      <th>1671</th>\n",
       "      <td></td>\n",
       "    </tr>\n",
       "  </tbody>\n",
       "</table>\n",
       "<p>1672 rows × 1 columns</p>\n",
       "</div>"
      ],
      "text/plain": [
       "                                                   line\n",
       "0     Abstract. Something fundamental to computation...\n",
       "1     in the last ten years. In certain fields, prog...\n",
       "2     previously. Researchers in affected fields are...\n",
       "3     formation, as the fields undergo a transition ...\n",
       "4     transition markedly changes the rate of spread...\n",
       "...                                                 ...\n",
       "1667                                                  t\n",
       "1668                                                  s\n",
       "1669                                                  u\n",
       "1670                                                  J\n",
       "1671                                                   \n",
       "\n",
       "[1672 rows x 1 columns]"
      ]
     },
     "execution_count": 391,
     "metadata": {},
     "output_type": "execute_result"
    }
   ],
   "source": [
    "# pandas dataframe\n",
    "outline = pd.DataFrame({'line': pdf_text})\n",
    "outline"
   ]
  },
  {
   "cell_type": "markdown",
   "metadata": {},
   "source": [
    "(6) Tokenize each line and convert each word to a row."
   ]
  },
  {
   "cell_type": "code",
   "execution_count": 392,
   "metadata": {},
   "outputs": [
    {
     "data": {
      "text/html": [
       "<div>\n",
       "<style scoped>\n",
       "    .dataframe tbody tr th:only-of-type {\n",
       "        vertical-align: middle;\n",
       "    }\n",
       "\n",
       "    .dataframe tbody tr th {\n",
       "        vertical-align: top;\n",
       "    }\n",
       "\n",
       "    .dataframe thead th {\n",
       "        text-align: right;\n",
       "    }\n",
       "</style>\n",
       "<table border=\"1\" class=\"dataframe\">\n",
       "  <thead>\n",
       "    <tr style=\"text-align: right;\">\n",
       "      <th></th>\n",
       "      <th>line</th>\n",
       "      <th>word</th>\n",
       "    </tr>\n",
       "  </thead>\n",
       "  <tbody>\n",
       "    <tr>\n",
       "      <th>0</th>\n",
       "      <td>Abstract. Something fundamental to computation...</td>\n",
       "      <td>Abstract</td>\n",
       "    </tr>\n",
       "    <tr>\n",
       "      <th>0</th>\n",
       "      <td>Abstract. Something fundamental to computation...</td>\n",
       "      <td>.</td>\n",
       "    </tr>\n",
       "    <tr>\n",
       "      <th>0</th>\n",
       "      <td>Abstract. Something fundamental to computation...</td>\n",
       "      <td>Something</td>\n",
       "    </tr>\n",
       "    <tr>\n",
       "      <th>0</th>\n",
       "      <td>Abstract. Something fundamental to computation...</td>\n",
       "      <td>fundamental</td>\n",
       "    </tr>\n",
       "    <tr>\n",
       "      <th>0</th>\n",
       "      <td>Abstract. Something fundamental to computation...</td>\n",
       "      <td>to</td>\n",
       "    </tr>\n",
       "    <tr>\n",
       "      <th>...</th>\n",
       "      <td>...</td>\n",
       "      <td>...</td>\n",
       "    </tr>\n",
       "    <tr>\n",
       "      <th>1667</th>\n",
       "      <td>t</td>\n",
       "      <td>t</td>\n",
       "    </tr>\n",
       "    <tr>\n",
       "      <th>1668</th>\n",
       "      <td>s</td>\n",
       "      <td>s</td>\n",
       "    </tr>\n",
       "    <tr>\n",
       "      <th>1669</th>\n",
       "      <td>u</td>\n",
       "      <td>u</td>\n",
       "    </tr>\n",
       "    <tr>\n",
       "      <th>1670</th>\n",
       "      <td>J</td>\n",
       "      <td>J</td>\n",
       "    </tr>\n",
       "    <tr>\n",
       "      <th>1671</th>\n",
       "      <td></td>\n",
       "      <td>NaN</td>\n",
       "    </tr>\n",
       "  </tbody>\n",
       "</table>\n",
       "<p>19049 rows × 2 columns</p>\n",
       "</div>"
      ],
      "text/plain": [
       "                                                   line         word\n",
       "0     Abstract. Something fundamental to computation...     Abstract\n",
       "0     Abstract. Something fundamental to computation...            .\n",
       "0     Abstract. Something fundamental to computation...    Something\n",
       "0     Abstract. Something fundamental to computation...  fundamental\n",
       "0     Abstract. Something fundamental to computation...           to\n",
       "...                                                 ...          ...\n",
       "1667                                                  t            t\n",
       "1668                                                  s            s\n",
       "1669                                                  u            u\n",
       "1670                                                  J            J\n",
       "1671                                                             NaN\n",
       "\n",
       "[19049 rows x 2 columns]"
      ]
     },
     "execution_count": 392,
     "metadata": {},
     "output_type": "execute_result"
    }
   ],
   "source": [
    "# tokenize each line\n",
    "outline['word'] = outline['line'].apply(word_tokenize)\n",
    "# convert each word to a row\n",
    "outline = outline.explode('word')\n",
    "outline"
   ]
  },
  {
   "cell_type": "markdown",
   "metadata": {},
   "source": [
    "(7) Convert each word to lowercase."
   ]
  },
  {
   "cell_type": "code",
   "execution_count": 393,
   "metadata": {},
   "outputs": [
    {
     "data": {
      "text/html": [
       "<div>\n",
       "<style scoped>\n",
       "    .dataframe tbody tr th:only-of-type {\n",
       "        vertical-align: middle;\n",
       "    }\n",
       "\n",
       "    .dataframe tbody tr th {\n",
       "        vertical-align: top;\n",
       "    }\n",
       "\n",
       "    .dataframe thead th {\n",
       "        text-align: right;\n",
       "    }\n",
       "</style>\n",
       "<table border=\"1\" class=\"dataframe\">\n",
       "  <thead>\n",
       "    <tr style=\"text-align: right;\">\n",
       "      <th></th>\n",
       "      <th>line</th>\n",
       "      <th>word</th>\n",
       "    </tr>\n",
       "  </thead>\n",
       "  <tbody>\n",
       "    <tr>\n",
       "      <th>0</th>\n",
       "      <td>Abstract. Something fundamental to computation...</td>\n",
       "      <td>abstract</td>\n",
       "    </tr>\n",
       "    <tr>\n",
       "      <th>0</th>\n",
       "      <td>Abstract. Something fundamental to computation...</td>\n",
       "      <td>.</td>\n",
       "    </tr>\n",
       "    <tr>\n",
       "      <th>0</th>\n",
       "      <td>Abstract. Something fundamental to computation...</td>\n",
       "      <td>something</td>\n",
       "    </tr>\n",
       "    <tr>\n",
       "      <th>0</th>\n",
       "      <td>Abstract. Something fundamental to computation...</td>\n",
       "      <td>fundamental</td>\n",
       "    </tr>\n",
       "    <tr>\n",
       "      <th>0</th>\n",
       "      <td>Abstract. Something fundamental to computation...</td>\n",
       "      <td>to</td>\n",
       "    </tr>\n",
       "    <tr>\n",
       "      <th>...</th>\n",
       "      <td>...</td>\n",
       "      <td>...</td>\n",
       "    </tr>\n",
       "    <tr>\n",
       "      <th>1667</th>\n",
       "      <td>t</td>\n",
       "      <td>t</td>\n",
       "    </tr>\n",
       "    <tr>\n",
       "      <th>1668</th>\n",
       "      <td>s</td>\n",
       "      <td>s</td>\n",
       "    </tr>\n",
       "    <tr>\n",
       "      <th>1669</th>\n",
       "      <td>u</td>\n",
       "      <td>u</td>\n",
       "    </tr>\n",
       "    <tr>\n",
       "      <th>1670</th>\n",
       "      <td>J</td>\n",
       "      <td>j</td>\n",
       "    </tr>\n",
       "    <tr>\n",
       "      <th>1671</th>\n",
       "      <td></td>\n",
       "      <td>NaN</td>\n",
       "    </tr>\n",
       "  </tbody>\n",
       "</table>\n",
       "<p>19049 rows × 2 columns</p>\n",
       "</div>"
      ],
      "text/plain": [
       "                                                   line         word\n",
       "0     Abstract. Something fundamental to computation...     abstract\n",
       "0     Abstract. Something fundamental to computation...            .\n",
       "0     Abstract. Something fundamental to computation...    something\n",
       "0     Abstract. Something fundamental to computation...  fundamental\n",
       "0     Abstract. Something fundamental to computation...           to\n",
       "...                                                 ...          ...\n",
       "1667                                                  t            t\n",
       "1668                                                  s            s\n",
       "1669                                                  u            u\n",
       "1670                                                  J            j\n",
       "1671                                                             NaN\n",
       "\n",
       "[19049 rows x 2 columns]"
      ]
     },
     "execution_count": 393,
     "metadata": {},
     "output_type": "execute_result"
    }
   ],
   "source": [
    "outline['word'] = outline['word'].str.lower()\n",
    "outline"
   ]
  },
  {
   "cell_type": "markdown",
   "metadata": {},
   "source": [
    "(8) Remove stopwords."
   ]
  },
  {
   "cell_type": "code",
   "execution_count": 394,
   "metadata": {},
   "outputs": [],
   "source": [
    "english_stopwords = set(stopwords.words('english'))"
   ]
  },
  {
   "cell_type": "code",
   "execution_count": 395,
   "metadata": {},
   "outputs": [
    {
     "data": {
      "text/plain": [
       "(14049, 2)"
      ]
     },
     "execution_count": 395,
     "metadata": {},
     "output_type": "execute_result"
    }
   ],
   "source": [
    "outline = outline[~outline['word'].isin(english_stopwords)]\n",
    "outline.shape"
   ]
  },
  {
   "cell_type": "markdown",
   "metadata": {},
   "source": [
    "(9) Remove any other words that are not suitable for the word cloud. For example, a single letter word, symbols [ . , ) , abbreviation, etc."
   ]
  },
  {
   "cell_type": "code",
   "execution_count": 396,
   "metadata": {},
   "outputs": [
    {
     "name": "stderr",
     "output_type": "stream",
     "text": [
      "/var/folders/jj/k27ndf3n34z0bf8kx6q4_fqc0000gn/T/ipykernel_25790/1873473230.py:2: SettingWithCopyWarning: \n",
      "A value is trying to be set on a copy of a slice from a DataFrame.\n",
      "Try using .loc[row_indexer,col_indexer] = value instead\n",
      "\n",
      "See the caveats in the documentation: https://pandas.pydata.org/pandas-docs/stable/user_guide/indexing.html#returning-a-view-versus-a-copy\n",
      "  outline['word'] = outline['word'].str.replace(r'\\b\\w\\b', '', regex=True)\n",
      "/var/folders/jj/k27ndf3n34z0bf8kx6q4_fqc0000gn/T/ipykernel_25790/1873473230.py:4: SettingWithCopyWarning: \n",
      "A value is trying to be set on a copy of a slice from a DataFrame.\n",
      "Try using .loc[row_indexer,col_indexer] = value instead\n",
      "\n",
      "See the caveats in the documentation: https://pandas.pydata.org/pandas-docs/stable/user_guide/indexing.html#returning-a-view-versus-a-copy\n",
      "  outline['word'] = outline['word'].str.replace(r'[].,)‘’&[:?;(•-]', '', regex=True)\n",
      "/var/folders/jj/k27ndf3n34z0bf8kx6q4_fqc0000gn/T/ipykernel_25790/1873473230.py:6: SettingWithCopyWarning: \n",
      "A value is trying to be set on a copy of a slice from a DataFrame.\n",
      "Try using .loc[row_indexer,col_indexer] = value instead\n",
      "\n",
      "See the caveats in the documentation: https://pandas.pydata.org/pandas-docs/stable/user_guide/indexing.html#returning-a-view-versus-a-copy\n",
      "  outline['word'] = outline['word'].str.replace(r'\\bfr\\b', '', regex = True)\n"
     ]
    },
    {
     "data": {
      "text/plain": [
       "(9202, 2)"
      ]
     },
     "execution_count": 396,
     "metadata": {},
     "output_type": "execute_result"
    }
   ],
   "source": [
    "# replace single letter\n",
    "outline['word'] = outline['word'].str.replace(r'\\b\\w\\b', '', regex=True)\n",
    "# replace all symbols\n",
    "outline['word'] = outline['word'].str.replace(r'[].,)‘’&[:?;(•-]', '', regex=True)\n",
    "# replace fr which is abbreviation\n",
    "outline['word'] = outline['word'].str.replace(r'\\bfr\\b', '', regex = True)\n",
    "outline = outline[outline['word'] != '']\n",
    "outline = outline[outline['word'] != '+']\n",
    "outline = outline[outline['word'] != '-']\n",
    "outline = outline[outline['word'] != '–']\n",
    "outline = outline[outline['word'] != '“']\n",
    "outline = outline[outline['word'] != '”']\n",
    "outline.shape"
   ]
  },
  {
   "cell_type": "code",
   "execution_count": 397,
   "metadata": {},
   "outputs": [
    {
     "data": {
      "text/plain": [
       "(9192, 2)"
      ]
     },
     "execution_count": 397,
     "metadata": {},
     "output_type": "execute_result"
    }
   ],
   "source": [
    "# check whether the words in stop words\n",
    "outline = outline[~outline['word'].isin(english_stopwords)]\n",
    "outline.shape"
   ]
  },
  {
   "cell_type": "markdown",
   "metadata": {},
   "source": [
    "(10) Create a term-frequency data frame."
   ]
  },
  {
   "cell_type": "code",
   "execution_count": 398,
   "metadata": {},
   "outputs": [
    {
     "name": "stdout",
     "output_type": "stream",
     "text": [
      "              word    n\n",
      "0             data  120\n",
      "1         research  110\n",
      "2          science   68\n",
      "3              new   63\n",
      "4       challenges   51\n",
      "5             code   48\n",
      "6             many   48\n",
      "7     frictionless   46\n",
      "8  reproducibility   36\n",
      "9          sharing   36\n",
      "(4100, 2)\n"
     ]
    }
   ],
   "source": [
    "freq = outline['word'].value_counts().reset_index()\n",
    "freq.columns = ['word', 'n']\n",
    "print(freq.head(10))\n",
    "print(freq.shape)"
   ]
  },
  {
   "cell_type": "markdown",
   "metadata": {},
   "source": [
    "(11) Produce a word cloud. You can decide on the most frequently used words in the world cloud—for example, word cloud for the ten most frequently used words. "
   ]
  },
  {
   "cell_type": "code",
   "execution_count": 399,
   "metadata": {},
   "outputs": [],
   "source": [
    "freq = freq.sort_values(\n",
    "    by='n', \n",
    "    ascending=False\n",
    "    )"
   ]
  },
  {
   "cell_type": "code",
   "execution_count": 400,
   "metadata": {},
   "outputs": [
    {
     "data": {
      "text/html": [
       "<div>\n",
       "<style scoped>\n",
       "    .dataframe tbody tr th:only-of-type {\n",
       "        vertical-align: middle;\n",
       "    }\n",
       "\n",
       "    .dataframe tbody tr th {\n",
       "        vertical-align: top;\n",
       "    }\n",
       "\n",
       "    .dataframe thead th {\n",
       "        text-align: right;\n",
       "    }\n",
       "</style>\n",
       "<table border=\"1\" class=\"dataframe\">\n",
       "  <thead>\n",
       "    <tr style=\"text-align: right;\">\n",
       "      <th></th>\n",
       "      <th>word</th>\n",
       "      <th>n</th>\n",
       "    </tr>\n",
       "  </thead>\n",
       "  <tbody>\n",
       "    <tr>\n",
       "      <th>0</th>\n",
       "      <td>data</td>\n",
       "      <td>120</td>\n",
       "    </tr>\n",
       "    <tr>\n",
       "      <th>1</th>\n",
       "      <td>research</td>\n",
       "      <td>110</td>\n",
       "    </tr>\n",
       "    <tr>\n",
       "      <th>2</th>\n",
       "      <td>science</td>\n",
       "      <td>68</td>\n",
       "    </tr>\n",
       "    <tr>\n",
       "      <th>3</th>\n",
       "      <td>new</td>\n",
       "      <td>63</td>\n",
       "    </tr>\n",
       "    <tr>\n",
       "      <th>4</th>\n",
       "      <td>challenges</td>\n",
       "      <td>51</td>\n",
       "    </tr>\n",
       "    <tr>\n",
       "      <th>5</th>\n",
       "      <td>code</td>\n",
       "      <td>48</td>\n",
       "    </tr>\n",
       "    <tr>\n",
       "      <th>6</th>\n",
       "      <td>many</td>\n",
       "      <td>48</td>\n",
       "    </tr>\n",
       "    <tr>\n",
       "      <th>7</th>\n",
       "      <td>frictionless</td>\n",
       "      <td>46</td>\n",
       "    </tr>\n",
       "    <tr>\n",
       "      <th>8</th>\n",
       "      <td>reproducibility</td>\n",
       "      <td>36</td>\n",
       "    </tr>\n",
       "    <tr>\n",
       "      <th>9</th>\n",
       "      <td>sharing</td>\n",
       "      <td>36</td>\n",
       "    </tr>\n",
       "  </tbody>\n",
       "</table>\n",
       "</div>"
      ],
      "text/plain": [
       "              word    n\n",
       "0             data  120\n",
       "1         research  110\n",
       "2          science   68\n",
       "3              new   63\n",
       "4       challenges   51\n",
       "5             code   48\n",
       "6             many   48\n",
       "7     frictionless   46\n",
       "8  reproducibility   36\n",
       "9          sharing   36"
      ]
     },
     "execution_count": 400,
     "metadata": {},
     "output_type": "execute_result"
    }
   ],
   "source": [
    "freq_top10 = freq[:10]\n",
    "freq_top10"
   ]
  },
  {
   "cell_type": "code",
   "execution_count": 401,
   "metadata": {},
   "outputs": [],
   "source": [
    "# combine words and frequency into a dictionary\n",
    "word_freq = dict(\n",
    "    zip(\n",
    "        freq_top10['word'], \n",
    "        freq_top10['n']\n",
    "        )\n",
    "    )"
   ]
  },
  {
   "cell_type": "code",
   "execution_count": 402,
   "metadata": {},
   "outputs": [],
   "source": [
    "import matplotlib.pyplot as plt\n",
    "from wordcloud import WordCloud"
   ]
  },
  {
   "cell_type": "code",
   "execution_count": 403,
   "metadata": {},
   "outputs": [
    {
     "data": {
      "image/png": "[encoded data removed]",
      "text/plain": [
       "<Figure size 1000x500 with 1 Axes>"
      ]
     },
     "metadata": {},
     "output_type": "display_data"
    }
   ],
   "source": [
    "# word cloud theme\n",
    "wordcloud = WordCloud(width=800, height=400, background_color='white')\n",
    "# word cloud\n",
    "wordcloud.generate_from_frequencies(word_freq)\n",
    "\n",
    "plt.figure(figsize=(10, 5))\n",
    "plt.imshow(wordcloud)\n",
    "plt.axis('off')\n",
    "plt.show()"
   ]
  },
  {
   "cell_type": "markdown",
   "metadata": {},
   "source": [
    "(12) Write a summary paragraph (at least two statements) about your word cloud. The summary should be cast in the context of your chosen text document."
   ]
  },
  {
   "cell_type": "markdown",
   "metadata": {},
   "source": [
    "From the top 10 most frequent words in the paper `Data Science at the Singularity`, a word cloud is built to encapsulate the core themes and focal points.\\\n",
    "From the word cloud plot, `Data`, `science` and `research`, these three words dominate the visual, reflecting that the main content of the article revolves around Data Science Research. Significant advances in data processing in data science. They are interrelated with something fundamental in computation-based research mentioned in the text, which has truly changed in the last ten years.\\\n",
    "Then `frictionless reproducibility` occurs, which connect to \"FR\" in paper. In the paper, 3 data science principles are mentioned: data sharing, code sharing, and competitive challenges. Words `data`, `code`, `sharing` and `challenges` are in the word cloud and they are the top 10 most frequent words in the paper. This reflects the discussion throughout the entire text revolving around the 3 data science principles, with these words being used very frequently."
   ]
  },
  {
   "cell_type": "markdown",
   "metadata": {},
   "source": [
    "\\newpage"
   ]
  },
  {
   "cell_type": "markdown",
   "metadata": {},
   "source": [
    "## Question 2\n",
    "\n",
    "Question 2 uses Johns Hopkins GitHub data on the COVID-19 global vaccine administered to develop a Shiny App."
   ]
  },
  {
   "cell_type": "markdown",
   "metadata": {},
   "source": [
    "(1) Read the CSV file"
   ]
  },
  {
   "cell_type": "code",
   "execution_count": 404,
   "metadata": {},
   "outputs": [
    {
     "data": {
      "text/html": [
       "<div>\n",
       "<style scoped>\n",
       "    .dataframe tbody tr th:only-of-type {\n",
       "        vertical-align: middle;\n",
       "    }\n",
       "\n",
       "    .dataframe tbody tr th {\n",
       "        vertical-align: top;\n",
       "    }\n",
       "\n",
       "    .dataframe thead th {\n",
       "        text-align: right;\n",
       "    }\n",
       "</style>\n",
       "<table border=\"1\" class=\"dataframe\">\n",
       "  <thead>\n",
       "    <tr style=\"text-align: right;\">\n",
       "      <th></th>\n",
       "      <th>Date</th>\n",
       "      <th>UID</th>\n",
       "      <th>Province_State</th>\n",
       "      <th>Country_Region</th>\n",
       "      <th>Doses_admin</th>\n",
       "      <th>People_at_least_one_dose</th>\n",
       "    </tr>\n",
       "  </thead>\n",
       "  <tbody>\n",
       "    <tr>\n",
       "      <th>0</th>\n",
       "      <td>2020-12-29</td>\n",
       "      <td>40.0</td>\n",
       "      <td>NaN</td>\n",
       "      <td>Austria</td>\n",
       "      <td>2123.0</td>\n",
       "      <td>2123.0</td>\n",
       "    </tr>\n",
       "    <tr>\n",
       "      <th>1</th>\n",
       "      <td>2020-12-29</td>\n",
       "      <td>48.0</td>\n",
       "      <td>NaN</td>\n",
       "      <td>Bahrain</td>\n",
       "      <td>55014.0</td>\n",
       "      <td>55014.0</td>\n",
       "    </tr>\n",
       "    <tr>\n",
       "      <th>2</th>\n",
       "      <td>2020-12-29</td>\n",
       "      <td>112.0</td>\n",
       "      <td>NaN</td>\n",
       "      <td>Belarus</td>\n",
       "      <td>0.0</td>\n",
       "      <td>0.0</td>\n",
       "    </tr>\n",
       "    <tr>\n",
       "      <th>3</th>\n",
       "      <td>2020-12-29</td>\n",
       "      <td>56.0</td>\n",
       "      <td>NaN</td>\n",
       "      <td>Belgium</td>\n",
       "      <td>340.0</td>\n",
       "      <td>340.0</td>\n",
       "    </tr>\n",
       "    <tr>\n",
       "      <th>4</th>\n",
       "      <td>2020-12-29</td>\n",
       "      <td>124.0</td>\n",
       "      <td>NaN</td>\n",
       "      <td>Canada</td>\n",
       "      <td>59079.0</td>\n",
       "      <td>59078.0</td>\n",
       "    </tr>\n",
       "  </tbody>\n",
       "</table>\n",
       "</div>"
      ],
      "text/plain": [
       "         Date    UID  Province_State Country_Region  Doses_admin  \\\n",
       "0  2020-12-29   40.0             NaN        Austria       2123.0   \n",
       "1  2020-12-29   48.0             NaN        Bahrain      55014.0   \n",
       "2  2020-12-29  112.0             NaN        Belarus          0.0   \n",
       "3  2020-12-29   56.0             NaN        Belgium        340.0   \n",
       "4  2020-12-29  124.0             NaN         Canada      59079.0   \n",
       "\n",
       "   People_at_least_one_dose  \n",
       "0                    2123.0  \n",
       "1                   55014.0  \n",
       "2                       0.0  \n",
       "3                     340.0  \n",
       "4                   59078.0  "
      ]
     },
     "execution_count": 404,
     "metadata": {},
     "output_type": "execute_result"
    }
   ],
   "source": [
    "covid19 = pd.read_csv('https://raw.githubusercontent.com/govex/COVID-19/master/data_tables/vaccine_data/global_data/time_series_covid19_vaccine_global.csv')\n",
    "covid19.head(5)"
   ]
  },
  {
   "cell_type": "markdown",
   "metadata": {},
   "source": [
    "(2) Each row is uniquely defined by country and date in the data frame. What is the dimension of the data?"
   ]
  },
  {
   "cell_type": "code",
   "execution_count": 405,
   "metadata": {},
   "outputs": [
    {
     "data": {
      "text/plain": [
       "(142597, 6)"
      ]
     },
     "execution_count": 405,
     "metadata": {},
     "output_type": "execute_result"
    }
   ],
   "source": [
    "covid19.shape"
   ]
  },
  {
   "cell_type": "markdown",
   "metadata": {},
   "source": [
    "The shape is (142597, 6), indicating that there are 142,597 rows and 6 columns in the data frame."
   ]
  },
  {
   "cell_type": "markdown",
   "metadata": {},
   "source": [
    "(3) Look at the data dictionary. Describe the `Doses_admin` and `People at least one dose administered` variables."
   ]
  },
  {
   "cell_type": "markdown",
   "metadata": {},
   "source": [
    "`Doses_admin` is Cumulative number of doses administered. When a vaccine requires multiple doses, each one is counted independently\\\n",
    "`People_at_least_one_dose` is Cumulative number of people who received at least one vaccine dose. When the person receives a prescribed second dose, it is not counted twice"
   ]
  },
  {
   "cell_type": "markdown",
   "metadata": {},
   "source": [
    "(4) Identify the data frame column representing the countries. Then, select the rows in the data frame for Canada."
   ]
  },
  {
   "cell_type": "code",
   "execution_count": 406,
   "metadata": {},
   "outputs": [
    {
     "name": "stderr",
     "output_type": "stream",
     "text": [
      "/var/folders/jj/k27ndf3n34z0bf8kx6q4_fqc0000gn/T/ipykernel_25790/2608245826.py:2: SettingWithCopyWarning: \n",
      "A value is trying to be set on a copy of a slice from a DataFrame.\n",
      "Try using .loc[row_indexer,col_indexer] = value instead\n",
      "\n",
      "See the caveats in the documentation: https://pandas.pydata.org/pandas-docs/stable/user_guide/indexing.html#returning-a-view-versus-a-copy\n",
      "  canada_cov['Date'] = pd.to_datetime(canada_cov['Date'])\n"
     ]
    },
    {
     "data": {
      "text/html": [
       "<div>\n",
       "<style scoped>\n",
       "    .dataframe tbody tr th:only-of-type {\n",
       "        vertical-align: middle;\n",
       "    }\n",
       "\n",
       "    .dataframe tbody tr th {\n",
       "        vertical-align: top;\n",
       "    }\n",
       "\n",
       "    .dataframe thead th {\n",
       "        text-align: right;\n",
       "    }\n",
       "</style>\n",
       "<table border=\"1\" class=\"dataframe\">\n",
       "  <thead>\n",
       "    <tr style=\"text-align: right;\">\n",
       "      <th></th>\n",
       "      <th>Date</th>\n",
       "      <th>UID</th>\n",
       "      <th>Province_State</th>\n",
       "      <th>Country_Region</th>\n",
       "      <th>Doses_admin</th>\n",
       "      <th>People_at_least_one_dose</th>\n",
       "    </tr>\n",
       "  </thead>\n",
       "  <tbody>\n",
       "    <tr>\n",
       "      <th>4</th>\n",
       "      <td>2020-12-29</td>\n",
       "      <td>124.0</td>\n",
       "      <td>NaN</td>\n",
       "      <td>Canada</td>\n",
       "      <td>59079.0</td>\n",
       "      <td>59078.0</td>\n",
       "    </tr>\n",
       "    <tr>\n",
       "      <th>40</th>\n",
       "      <td>2020-12-30</td>\n",
       "      <td>124.0</td>\n",
       "      <td>NaN</td>\n",
       "      <td>Canada</td>\n",
       "      <td>72092.0</td>\n",
       "      <td>72090.0</td>\n",
       "    </tr>\n",
       "    <tr>\n",
       "      <th>76</th>\n",
       "      <td>2020-12-31</td>\n",
       "      <td>124.0</td>\n",
       "      <td>NaN</td>\n",
       "      <td>Canada</td>\n",
       "      <td>80641.0</td>\n",
       "      <td>80639.0</td>\n",
       "    </tr>\n",
       "    <tr>\n",
       "      <th>116</th>\n",
       "      <td>2021-01-01</td>\n",
       "      <td>124.0</td>\n",
       "      <td>NaN</td>\n",
       "      <td>Canada</td>\n",
       "      <td>96170.0</td>\n",
       "      <td>96168.0</td>\n",
       "    </tr>\n",
       "    <tr>\n",
       "      <th>156</th>\n",
       "      <td>2021-01-02</td>\n",
       "      <td>124.0</td>\n",
       "      <td>NaN</td>\n",
       "      <td>Canada</td>\n",
       "      <td>105461.0</td>\n",
       "      <td>105458.0</td>\n",
       "    </tr>\n",
       "  </tbody>\n",
       "</table>\n",
       "</div>"
      ],
      "text/plain": [
       "          Date    UID  Province_State Country_Region  Doses_admin  \\\n",
       "4   2020-12-29  124.0             NaN         Canada      59079.0   \n",
       "40  2020-12-30  124.0             NaN         Canada      72092.0   \n",
       "76  2020-12-31  124.0             NaN         Canada      80641.0   \n",
       "116 2021-01-01  124.0             NaN         Canada      96170.0   \n",
       "156 2021-01-02  124.0             NaN         Canada     105461.0   \n",
       "\n",
       "     People_at_least_one_dose  \n",
       "4                     59078.0  \n",
       "40                    72090.0  \n",
       "76                    80639.0  \n",
       "116                   96168.0  \n",
       "156                  105458.0  "
      ]
     },
     "execution_count": 406,
     "metadata": {},
     "output_type": "execute_result"
    }
   ],
   "source": [
    "canada_cov = covid19[covid19['Country_Region'] == 'Canada']\n",
    "canada_cov['Date'] = pd.to_datetime(canada_cov['Date'])\n",
    "canada_cov.head(5)"
   ]
  },
  {
   "cell_type": "markdown",
   "metadata": {},
   "source": [
    "(5) Use only the Canada vaccine data to answer the rest of the questions. Plot the time series data of `Dose_dmin` and `People_at_least_one_dose` in the same graph. Label the time series lines by `Doses Administered` and `People at least one dose administered`, respectively. Convert the y-axis to the log scale. Rotate the x-axis ticks by 45 degrees."
   ]
  },
  {
   "cell_type": "code",
   "execution_count": 407,
   "metadata": {},
   "outputs": [],
   "source": [
    "import matplotlib.pyplot"
   ]
  },
  {
   "cell_type": "code",
   "execution_count": 408,
   "metadata": {},
   "outputs": [
    {
     "data": {
      "text/plain": [
       "<matplotlib.legend.Legend at 0x12dcf0310>"
      ]
     },
     "execution_count": 408,
     "metadata": {},
     "output_type": "execute_result"
    },
    {
     "data": {
      "image/png": "[encoded data removed]",
      "text/plain": [
       "<Figure size 640x480 with 1 Axes>"
      ]
     },
     "metadata": {},
     "output_type": "display_data"
    }
   ],
   "source": [
    "# as 'Date' has been converted by canada_cov['Date'] = pd.to_datetime(canada_cov['Date']) in (4)\n",
    "matplotlib.pyplot.plot(canada_cov['Date'], canada_cov['Doses_admin'], label='Doses Administered')\n",
    "matplotlib.pyplot.plot(canada_cov['Date'], canada_cov['People_at_least_one_dose'], label='People at least one dose administered')\n",
    "matplotlib.pyplot.xlabel('Date')\n",
    "matplotlib.pyplot.xticks(rotation=45)\n",
    "matplotlib.pyplot.ylabel('Number of Doses/people')\n",
    "matplotlib.pyplot.yscale('log')\n",
    "matplotlib.pyplot.title('Covid-19 Vaccine in Canada')\n",
    "matplotlib.pyplot.legend()"
   ]
  },
  {
   "cell_type": "markdown",
   "metadata": {},
   "source": [
    "(6) Describe the plot in the context of data."
   ]
  },
  {
   "cell_type": "markdown",
   "metadata": {},
   "source": [
    "From this graph, we can observe that starting from January 2021, both `doses administered` and `people at least one dose administered` have been increasing together. This can be understood as the initial rollout of vaccines, where everyone is receiving their first dose. Around February 2021, the two lines diverge, with `doses administered` exceeding the number of `people at least one dose administered`. This indicates that some individuals have begun receiving their second dose of the vaccine, causing the number of `people at least one dose administered` to increase slowly while `doses administered` continue to grow and surpass it. From around April 2021, the number of people at least one `dose administered` rapidly increases, gradually approaching `doses administered`. After June 2021, there is a second divergence, with the gap between `doses administered` and `people at least one dose administered` increasing, suggesting that many individuals are receiving their second dose of the vaccine, and fewer are receiving their first dose."
   ]
  },
  {
   "cell_type": "markdown",
   "metadata": {},
   "source": [
    "(7) Create the Shiny app as follows. In the Shiny app, the user input is any starting and ending dates. The range of dates may be `2020-12-29` to `2023-03-09`. The output is the time series plot for the logarithm of the `doses administrated` and `people at least one dose administrated` in Canada for the range of dates the users choose. You can use the following template to create the Shiny app. "
   ]
  },
  {
   "cell_type": "code",
   "execution_count": 409,
   "metadata": {},
   "outputs": [],
   "source": [
    "from shiny import App, render, ui\n",
    "\n",
    "# import required libraries\n",
    "import matplotlib.pyplot\n",
    "import pandas as pd\n",
    "\n",
    "app_ui = ui.page_fluid(\n",
    "    ui.input_date_range(\n",
    "        \"daterange\", \n",
    "        \"Date range\", \n",
    "        start=\"2020-12-29\", \n",
    "        end='2023-03-09'\n",
    "        ),  \n",
    "    ui.output_plot('myplot'),\n",
    ")\n",
    "\n",
    "def server(input, output, session):\n",
    "    @output\n",
    "    @render.plot\n",
    "    def myplot():\n",
    "        \n",
    "        # Read the data\n",
    "        covid19 = pd.read_csv('https://raw.githubusercontent.com/govex/COVID-19/master/data_tables/vaccine_data/global_data/time_series_covid19_vaccine_global.csv')\n",
    "        # select the data for Canada\n",
    "        df = covid19[covid19['Country_Region'] == 'Canada']\n",
    "        # If you call the data frame as `df`, then the \n",
    "        # following codes select the rows in the user \n",
    "        df['Date'] = pd.to_datetime(df['Date'])\n",
    "        # selected date range\n",
    "        df = df[df['Date'] > pd.Timestamp(input.daterange()[0])]\n",
    "        df = df[df['Date'] < pd.Timestamp(input.daterange()[1])]\n",
    "        \n",
    "        # Create the plot using `df`\n",
    "        matplotlib.pyplot.plot(df['Date'], df['Doses_admin'], label='Doses Administered')\n",
    "        matplotlib.pyplot.plot(df['Date'], df['People_at_least_one_dose'], label='People at least one dose administered')\n",
    "        matplotlib.pyplot.xlabel('Date')\n",
    "        matplotlib.pyplot.xticks(rotation=45)\n",
    "        matplotlib.pyplot.ylabel('Number of Doses/people')\n",
    "        matplotlib.pyplot.yscale('log')\n",
    "        matplotlib.pyplot.title('Covid-19 Vaccine in Canada')\n",
    "        matplotlib.pyplot.legend()\n",
    " \n",
    "\n",
    "app = App(app_ui, server)"
   ]
  },
  {
   "cell_type": "markdown",
   "metadata": {},
   "source": [
    "(8) Deploy your Shiny app at [https://www.shinyapps.io/](https://www.shinyapps.io/). Then, provide the link to the app—for example, [https://pratheepaj.shinyapps.io/my_app/](https://pratheepaj.shinyapps.io/my_app/)."
   ]
  },
  {
   "cell_type": "markdown",
   "metadata": {},
   "source": [
    "link is here\\\n",
    "[https://huangl57.shinyapps.io/html_page_app/](https://huangl57.shinyapps.io/html_page_app/).\n"
   ]
  },
  {
   "cell_type": "markdown",
   "metadata": {},
   "source": [
    "## 3. Helper's name.\n",
    "\n",
    "Xiangdong Wang\\\n",
    "Discussed abou soloving error when trying to deploy shiny app."
   ]
  },
  {
   "cell_type": "markdown",
   "metadata": {},
   "source": [
    "\\newpage"
   ]
  },
  {
   "cell_type": "markdown",
   "metadata": {},
   "source": [
    "## References\n"
   ]
  },
  {
   "cell_type": "markdown",
   "metadata": {},
   "source": []
  }
 ],
 "metadata": {
  "kernelspec": {
   "display_name": ".venv",
   "language": "python",
   "name": "python3"
  },
  "language_info": {
   "codemirror_mode": {
    "name": "ipython",
    "version": 3
   },
   "file_extension": ".py",
   "mimetype": "text/x-python",
   "name": "python",
   "nbconvert_exporter": "python",
   "pygments_lexer": "ipython3",
   "version": "3.11.7"
  }
 },
 "nbformat": 4,
 "nbformat_minor": 2
}
